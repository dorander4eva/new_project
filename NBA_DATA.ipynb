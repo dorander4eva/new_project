{
 "cells": [
  {
   "cell_type": "code",
   "execution_count": 2,
   "id": "4a452f72",
   "metadata": {},
   "outputs": [],
   "source": [
    "import pandas as pd\n",
    "import numpy as np\n",
    "import seaborn as sns\n",
    "import matplotlib.pyplot as plt\n",
    "import sklearn "
   ]
  },
  {
   "cell_type": "code",
   "execution_count": 3,
   "id": "b4080200",
   "metadata": {},
   "outputs": [],
   "source": [
    "nba_data = pd.read_csv('nba_rookie_data.csv')"
   ]
  },
  {
   "cell_type": "code",
   "execution_count": 4,
   "id": "1fdaa57c",
   "metadata": {},
   "outputs": [
    {
     "data": {
      "text/html": [
       "<div>\n",
       "<style scoped>\n",
       "    .dataframe tbody tr th:only-of-type {\n",
       "        vertical-align: middle;\n",
       "    }\n",
       "\n",
       "    .dataframe tbody tr th {\n",
       "        vertical-align: top;\n",
       "    }\n",
       "\n",
       "    .dataframe thead th {\n",
       "        text-align: right;\n",
       "    }\n",
       "</style>\n",
       "<table border=\"1\" class=\"dataframe\">\n",
       "  <thead>\n",
       "    <tr style=\"text-align: right;\">\n",
       "      <th></th>\n",
       "      <th>Name</th>\n",
       "      <th>Games Played</th>\n",
       "      <th>Minutes Played</th>\n",
       "      <th>Points Per Game</th>\n",
       "      <th>Field Goals Made</th>\n",
       "      <th>Field Goal Attempts</th>\n",
       "      <th>Field Goal Percent</th>\n",
       "      <th>3 Point Made</th>\n",
       "      <th>3 Point Attempt</th>\n",
       "      <th>3 Point Percent</th>\n",
       "      <th>...</th>\n",
       "      <th>Free Throw Attempts</th>\n",
       "      <th>Free Throw Percent</th>\n",
       "      <th>Offensive Rebounds</th>\n",
       "      <th>Defensive Rebounds</th>\n",
       "      <th>Rebounds</th>\n",
       "      <th>Assists</th>\n",
       "      <th>Steals</th>\n",
       "      <th>Blocks</th>\n",
       "      <th>Turnovers</th>\n",
       "      <th>TARGET_5Yrs</th>\n",
       "    </tr>\n",
       "  </thead>\n",
       "  <tbody>\n",
       "    <tr>\n",
       "      <th>0</th>\n",
       "      <td>Brandon Ingram</td>\n",
       "      <td>36</td>\n",
       "      <td>27.4</td>\n",
       "      <td>7.4</td>\n",
       "      <td>2.6</td>\n",
       "      <td>7.6</td>\n",
       "      <td>34.7</td>\n",
       "      <td>0.5</td>\n",
       "      <td>2.1</td>\n",
       "      <td>25.0</td>\n",
       "      <td>...</td>\n",
       "      <td>2.3</td>\n",
       "      <td>69.9</td>\n",
       "      <td>0.7</td>\n",
       "      <td>3.4</td>\n",
       "      <td>4.1</td>\n",
       "      <td>1.9</td>\n",
       "      <td>0.4</td>\n",
       "      <td>0.4</td>\n",
       "      <td>1.3</td>\n",
       "      <td>0</td>\n",
       "    </tr>\n",
       "    <tr>\n",
       "      <th>1</th>\n",
       "      <td>Andrew Harrison</td>\n",
       "      <td>35</td>\n",
       "      <td>26.9</td>\n",
       "      <td>7.2</td>\n",
       "      <td>2.0</td>\n",
       "      <td>6.7</td>\n",
       "      <td>29.6</td>\n",
       "      <td>0.7</td>\n",
       "      <td>2.8</td>\n",
       "      <td>23.5</td>\n",
       "      <td>...</td>\n",
       "      <td>3.4</td>\n",
       "      <td>76.5</td>\n",
       "      <td>0.5</td>\n",
       "      <td>2.0</td>\n",
       "      <td>2.4</td>\n",
       "      <td>3.7</td>\n",
       "      <td>1.1</td>\n",
       "      <td>0.5</td>\n",
       "      <td>1.6</td>\n",
       "      <td>0</td>\n",
       "    </tr>\n",
       "    <tr>\n",
       "      <th>2</th>\n",
       "      <td>JaKarr Sampson</td>\n",
       "      <td>74</td>\n",
       "      <td>15.3</td>\n",
       "      <td>5.2</td>\n",
       "      <td>2.0</td>\n",
       "      <td>4.7</td>\n",
       "      <td>42.2</td>\n",
       "      <td>0.4</td>\n",
       "      <td>1.7</td>\n",
       "      <td>24.4</td>\n",
       "      <td>...</td>\n",
       "      <td>1.3</td>\n",
       "      <td>67.0</td>\n",
       "      <td>0.5</td>\n",
       "      <td>1.7</td>\n",
       "      <td>2.2</td>\n",
       "      <td>1.0</td>\n",
       "      <td>0.5</td>\n",
       "      <td>0.3</td>\n",
       "      <td>1.0</td>\n",
       "      <td>0</td>\n",
       "    </tr>\n",
       "    <tr>\n",
       "      <th>3</th>\n",
       "      <td>Malik Sealy</td>\n",
       "      <td>58</td>\n",
       "      <td>11.6</td>\n",
       "      <td>5.7</td>\n",
       "      <td>2.3</td>\n",
       "      <td>5.5</td>\n",
       "      <td>42.6</td>\n",
       "      <td>0.1</td>\n",
       "      <td>0.5</td>\n",
       "      <td>22.6</td>\n",
       "      <td>...</td>\n",
       "      <td>1.3</td>\n",
       "      <td>68.9</td>\n",
       "      <td>1.0</td>\n",
       "      <td>0.9</td>\n",
       "      <td>1.9</td>\n",
       "      <td>0.8</td>\n",
       "      <td>0.6</td>\n",
       "      <td>0.1</td>\n",
       "      <td>1.0</td>\n",
       "      <td>1</td>\n",
       "    </tr>\n",
       "    <tr>\n",
       "      <th>4</th>\n",
       "      <td>Matt Geiger</td>\n",
       "      <td>48</td>\n",
       "      <td>11.5</td>\n",
       "      <td>4.5</td>\n",
       "      <td>1.6</td>\n",
       "      <td>3.0</td>\n",
       "      <td>52.4</td>\n",
       "      <td>0.0</td>\n",
       "      <td>0.1</td>\n",
       "      <td>0.0</td>\n",
       "      <td>...</td>\n",
       "      <td>1.9</td>\n",
       "      <td>67.4</td>\n",
       "      <td>1.0</td>\n",
       "      <td>1.5</td>\n",
       "      <td>2.5</td>\n",
       "      <td>0.3</td>\n",
       "      <td>0.3</td>\n",
       "      <td>0.4</td>\n",
       "      <td>0.8</td>\n",
       "      <td>1</td>\n",
       "    </tr>\n",
       "  </tbody>\n",
       "</table>\n",
       "<p>5 rows × 21 columns</p>\n",
       "</div>"
      ],
      "text/plain": [
       "              Name  Games Played  Minutes Played  Points Per Game  \\\n",
       "0   Brandon Ingram            36            27.4              7.4   \n",
       "1  Andrew Harrison            35            26.9              7.2   \n",
       "2   JaKarr Sampson            74            15.3              5.2   \n",
       "3      Malik Sealy            58            11.6              5.7   \n",
       "4      Matt Geiger            48            11.5              4.5   \n",
       "\n",
       "   Field Goals Made  Field Goal Attempts  Field Goal Percent  3 Point Made  \\\n",
       "0               2.6                  7.6                34.7           0.5   \n",
       "1               2.0                  6.7                29.6           0.7   \n",
       "2               2.0                  4.7                42.2           0.4   \n",
       "3               2.3                  5.5                42.6           0.1   \n",
       "4               1.6                  3.0                52.4           0.0   \n",
       "\n",
       "   3 Point Attempt  3 Point Percent  ...  Free Throw Attempts  \\\n",
       "0              2.1             25.0  ...                  2.3   \n",
       "1              2.8             23.5  ...                  3.4   \n",
       "2              1.7             24.4  ...                  1.3   \n",
       "3              0.5             22.6  ...                  1.3   \n",
       "4              0.1              0.0  ...                  1.9   \n",
       "\n",
       "   Free Throw Percent  Offensive Rebounds  Defensive Rebounds  Rebounds  \\\n",
       "0                69.9                 0.7                 3.4       4.1   \n",
       "1                76.5                 0.5                 2.0       2.4   \n",
       "2                67.0                 0.5                 1.7       2.2   \n",
       "3                68.9                 1.0                 0.9       1.9   \n",
       "4                67.4                 1.0                 1.5       2.5   \n",
       "\n",
       "   Assists  Steals  Blocks  Turnovers  TARGET_5Yrs  \n",
       "0      1.9     0.4     0.4        1.3            0  \n",
       "1      3.7     1.1     0.5        1.6            0  \n",
       "2      1.0     0.5     0.3        1.0            0  \n",
       "3      0.8     0.6     0.1        1.0            1  \n",
       "4      0.3     0.3     0.4        0.8            1  \n",
       "\n",
       "[5 rows x 21 columns]"
      ]
     },
     "execution_count": 4,
     "metadata": {},
     "output_type": "execute_result"
    }
   ],
   "source": [
    "nba_data.head()\n"
   ]
  },
  {
   "cell_type": "code",
   "execution_count": 5,
   "id": "a92e871f",
   "metadata": {},
   "outputs": [
    {
     "data": {
      "text/html": [
       "<div>\n",
       "<style scoped>\n",
       "    .dataframe tbody tr th:only-of-type {\n",
       "        vertical-align: middle;\n",
       "    }\n",
       "\n",
       "    .dataframe tbody tr th {\n",
       "        vertical-align: top;\n",
       "    }\n",
       "\n",
       "    .dataframe thead th {\n",
       "        text-align: right;\n",
       "    }\n",
       "</style>\n",
       "<table border=\"1\" class=\"dataframe\">\n",
       "  <thead>\n",
       "    <tr style=\"text-align: right;\">\n",
       "      <th></th>\n",
       "      <th>Name</th>\n",
       "      <th>Games Played</th>\n",
       "      <th>Minutes Played</th>\n",
       "      <th>Points Per Game</th>\n",
       "      <th>Field Goals Made</th>\n",
       "      <th>Field Goal Attempts</th>\n",
       "      <th>Field Goal Percent</th>\n",
       "      <th>3 Point Made</th>\n",
       "      <th>3 Point Attempt</th>\n",
       "      <th>3 Point Percent</th>\n",
       "      <th>...</th>\n",
       "      <th>Free Throw Attempts</th>\n",
       "      <th>Free Throw Percent</th>\n",
       "      <th>Offensive Rebounds</th>\n",
       "      <th>Defensive Rebounds</th>\n",
       "      <th>Rebounds</th>\n",
       "      <th>Assists</th>\n",
       "      <th>Steals</th>\n",
       "      <th>Blocks</th>\n",
       "      <th>Turnovers</th>\n",
       "      <th>TARGET_5Yrs</th>\n",
       "    </tr>\n",
       "  </thead>\n",
       "  <tbody>\n",
       "    <tr>\n",
       "      <th>1335</th>\n",
       "      <td>Chris Smith</td>\n",
       "      <td>80</td>\n",
       "      <td>15.8</td>\n",
       "      <td>4.3</td>\n",
       "      <td>1.6</td>\n",
       "      <td>3.6</td>\n",
       "      <td>43.3</td>\n",
       "      <td>0.0</td>\n",
       "      <td>0.2</td>\n",
       "      <td>14.3</td>\n",
       "      <td>...</td>\n",
       "      <td>1.5</td>\n",
       "      <td>79.2</td>\n",
       "      <td>0.4</td>\n",
       "      <td>0.8</td>\n",
       "      <td>1.2</td>\n",
       "      <td>2.5</td>\n",
       "      <td>0.6</td>\n",
       "      <td>0.2</td>\n",
       "      <td>0.8</td>\n",
       "      <td>0</td>\n",
       "    </tr>\n",
       "    <tr>\n",
       "      <th>1336</th>\n",
       "      <td>Brent Price</td>\n",
       "      <td>68</td>\n",
       "      <td>12.6</td>\n",
       "      <td>3.9</td>\n",
       "      <td>1.5</td>\n",
       "      <td>4.1</td>\n",
       "      <td>35.8</td>\n",
       "      <td>0.1</td>\n",
       "      <td>0.7</td>\n",
       "      <td>16.7</td>\n",
       "      <td>...</td>\n",
       "      <td>1.0</td>\n",
       "      <td>79.4</td>\n",
       "      <td>0.4</td>\n",
       "      <td>1.1</td>\n",
       "      <td>1.5</td>\n",
       "      <td>2.3</td>\n",
       "      <td>0.8</td>\n",
       "      <td>0.0</td>\n",
       "      <td>1.3</td>\n",
       "      <td>1</td>\n",
       "    </tr>\n",
       "    <tr>\n",
       "      <th>1337</th>\n",
       "      <td>Marlon Maxey</td>\n",
       "      <td>43</td>\n",
       "      <td>12.1</td>\n",
       "      <td>5.4</td>\n",
       "      <td>2.2</td>\n",
       "      <td>3.9</td>\n",
       "      <td>55.0</td>\n",
       "      <td>0.0</td>\n",
       "      <td>0.0</td>\n",
       "      <td>0.0</td>\n",
       "      <td>...</td>\n",
       "      <td>1.6</td>\n",
       "      <td>64.3</td>\n",
       "      <td>1.5</td>\n",
       "      <td>2.3</td>\n",
       "      <td>3.8</td>\n",
       "      <td>0.3</td>\n",
       "      <td>0.3</td>\n",
       "      <td>0.4</td>\n",
       "      <td>0.9</td>\n",
       "      <td>0</td>\n",
       "    </tr>\n",
       "    <tr>\n",
       "      <th>1338</th>\n",
       "      <td>Litterial Green</td>\n",
       "      <td>52</td>\n",
       "      <td>12.0</td>\n",
       "      <td>4.5</td>\n",
       "      <td>1.7</td>\n",
       "      <td>3.8</td>\n",
       "      <td>43.9</td>\n",
       "      <td>0.0</td>\n",
       "      <td>0.2</td>\n",
       "      <td>10.0</td>\n",
       "      <td>...</td>\n",
       "      <td>1.8</td>\n",
       "      <td>62.5</td>\n",
       "      <td>0.2</td>\n",
       "      <td>0.4</td>\n",
       "      <td>0.7</td>\n",
       "      <td>2.2</td>\n",
       "      <td>0.4</td>\n",
       "      <td>0.1</td>\n",
       "      <td>0.8</td>\n",
       "      <td>1</td>\n",
       "    </tr>\n",
       "    <tr>\n",
       "      <th>1339</th>\n",
       "      <td>Jon Barry</td>\n",
       "      <td>47</td>\n",
       "      <td>11.7</td>\n",
       "      <td>4.4</td>\n",
       "      <td>1.6</td>\n",
       "      <td>4.4</td>\n",
       "      <td>36.9</td>\n",
       "      <td>0.4</td>\n",
       "      <td>1.3</td>\n",
       "      <td>33.3</td>\n",
       "      <td>...</td>\n",
       "      <td>1.0</td>\n",
       "      <td>67.3</td>\n",
       "      <td>0.2</td>\n",
       "      <td>0.7</td>\n",
       "      <td>0.9</td>\n",
       "      <td>1.4</td>\n",
       "      <td>0.7</td>\n",
       "      <td>0.1</td>\n",
       "      <td>0.9</td>\n",
       "      <td>1</td>\n",
       "    </tr>\n",
       "  </tbody>\n",
       "</table>\n",
       "<p>5 rows × 21 columns</p>\n",
       "</div>"
      ],
      "text/plain": [
       "                 Name  Games Played  Minutes Played  Points Per Game  \\\n",
       "1335      Chris Smith            80            15.8              4.3   \n",
       "1336      Brent Price            68            12.6              3.9   \n",
       "1337     Marlon Maxey            43            12.1              5.4   \n",
       "1338  Litterial Green            52            12.0              4.5   \n",
       "1339        Jon Barry            47            11.7              4.4   \n",
       "\n",
       "      Field Goals Made  Field Goal Attempts  Field Goal Percent  3 Point Made  \\\n",
       "1335               1.6                  3.6                43.3           0.0   \n",
       "1336               1.5                  4.1                35.8           0.1   \n",
       "1337               2.2                  3.9                55.0           0.0   \n",
       "1338               1.7                  3.8                43.9           0.0   \n",
       "1339               1.6                  4.4                36.9           0.4   \n",
       "\n",
       "      3 Point Attempt  3 Point Percent  ...  Free Throw Attempts  \\\n",
       "1335              0.2             14.3  ...                  1.5   \n",
       "1336              0.7             16.7  ...                  1.0   \n",
       "1337              0.0              0.0  ...                  1.6   \n",
       "1338              0.2             10.0  ...                  1.8   \n",
       "1339              1.3             33.3  ...                  1.0   \n",
       "\n",
       "      Free Throw Percent  Offensive Rebounds  Defensive Rebounds  Rebounds  \\\n",
       "1335                79.2                 0.4                 0.8       1.2   \n",
       "1336                79.4                 0.4                 1.1       1.5   \n",
       "1337                64.3                 1.5                 2.3       3.8   \n",
       "1338                62.5                 0.2                 0.4       0.7   \n",
       "1339                67.3                 0.2                 0.7       0.9   \n",
       "\n",
       "      Assists  Steals  Blocks  Turnovers  TARGET_5Yrs  \n",
       "1335      2.5     0.6     0.2        0.8            0  \n",
       "1336      2.3     0.8     0.0        1.3            1  \n",
       "1337      0.3     0.3     0.4        0.9            0  \n",
       "1338      2.2     0.4     0.1        0.8            1  \n",
       "1339      1.4     0.7     0.1        0.9            1  \n",
       "\n",
       "[5 rows x 21 columns]"
      ]
     },
     "execution_count": 5,
     "metadata": {},
     "output_type": "execute_result"
    }
   ],
   "source": [
    "nba_data.tail()"
   ]
  },
  {
   "cell_type": "code",
   "execution_count": 6,
   "id": "66784d54",
   "metadata": {},
   "outputs": [
    {
     "name": "stdout",
     "output_type": "stream",
     "text": [
      "<class 'pandas.core.frame.DataFrame'>\n",
      "RangeIndex: 1340 entries, 0 to 1339\n",
      "Data columns (total 21 columns):\n",
      " #   Column               Non-Null Count  Dtype  \n",
      "---  ------               --------------  -----  \n",
      " 0   Name                 1340 non-null   object \n",
      " 1   Games Played         1340 non-null   int64  \n",
      " 2   Minutes Played       1340 non-null   float64\n",
      " 3   Points Per Game      1340 non-null   float64\n",
      " 4   Field Goals Made     1340 non-null   float64\n",
      " 5   Field Goal Attempts  1340 non-null   float64\n",
      " 6   Field Goal Percent   1340 non-null   float64\n",
      " 7   3 Point Made         1340 non-null   float64\n",
      " 8   3 Point Attempt      1340 non-null   float64\n",
      " 9   3 Point Percent      1329 non-null   float64\n",
      " 10  Free Throw Made      1340 non-null   float64\n",
      " 11  Free Throw Attempts  1340 non-null   float64\n",
      " 12  Free Throw Percent   1340 non-null   float64\n",
      " 13  Offensive Rebounds   1340 non-null   float64\n",
      " 14  Defensive Rebounds   1340 non-null   float64\n",
      " 15  Rebounds             1340 non-null   float64\n",
      " 16  Assists              1340 non-null   float64\n",
      " 17  Steals               1340 non-null   float64\n",
      " 18  Blocks               1340 non-null   float64\n",
      " 19  Turnovers            1340 non-null   float64\n",
      " 20  TARGET_5Yrs          1340 non-null   int64  \n",
      "dtypes: float64(18), int64(2), object(1)\n",
      "memory usage: 220.0+ KB\n"
     ]
    },
    {
     "data": {
      "text/html": [
       "<div>\n",
       "<style scoped>\n",
       "    .dataframe tbody tr th:only-of-type {\n",
       "        vertical-align: middle;\n",
       "    }\n",
       "\n",
       "    .dataframe tbody tr th {\n",
       "        vertical-align: top;\n",
       "    }\n",
       "\n",
       "    .dataframe thead th {\n",
       "        text-align: right;\n",
       "    }\n",
       "</style>\n",
       "<table border=\"1\" class=\"dataframe\">\n",
       "  <thead>\n",
       "    <tr style=\"text-align: right;\">\n",
       "      <th></th>\n",
       "      <th>Games Played</th>\n",
       "      <th>Minutes Played</th>\n",
       "      <th>Points Per Game</th>\n",
       "      <th>Field Goals Made</th>\n",
       "      <th>Field Goal Attempts</th>\n",
       "      <th>Field Goal Percent</th>\n",
       "      <th>3 Point Made</th>\n",
       "      <th>3 Point Attempt</th>\n",
       "      <th>3 Point Percent</th>\n",
       "      <th>Free Throw Made</th>\n",
       "      <th>Free Throw Attempts</th>\n",
       "      <th>Free Throw Percent</th>\n",
       "      <th>Offensive Rebounds</th>\n",
       "      <th>Defensive Rebounds</th>\n",
       "      <th>Rebounds</th>\n",
       "      <th>Assists</th>\n",
       "      <th>Steals</th>\n",
       "      <th>Blocks</th>\n",
       "      <th>Turnovers</th>\n",
       "      <th>TARGET_5Yrs</th>\n",
       "    </tr>\n",
       "  </thead>\n",
       "  <tbody>\n",
       "    <tr>\n",
       "      <th>count</th>\n",
       "      <td>1340.000000</td>\n",
       "      <td>1340.000000</td>\n",
       "      <td>1340.000000</td>\n",
       "      <td>1340.000000</td>\n",
       "      <td>1340.000000</td>\n",
       "      <td>1340.000000</td>\n",
       "      <td>1340.000000</td>\n",
       "      <td>1340.000000</td>\n",
       "      <td>1329.000000</td>\n",
       "      <td>1340.000000</td>\n",
       "      <td>1340.000000</td>\n",
       "      <td>1340.000000</td>\n",
       "      <td>1340.000000</td>\n",
       "      <td>1340.000000</td>\n",
       "      <td>1340.000000</td>\n",
       "      <td>1340.000000</td>\n",
       "      <td>1340.000000</td>\n",
       "      <td>1340.000000</td>\n",
       "      <td>1340.000000</td>\n",
       "      <td>1340.000000</td>\n",
       "    </tr>\n",
       "    <tr>\n",
       "      <th>mean</th>\n",
       "      <td>60.414179</td>\n",
       "      <td>17.624627</td>\n",
       "      <td>6.801493</td>\n",
       "      <td>2.629104</td>\n",
       "      <td>5.885299</td>\n",
       "      <td>44.169403</td>\n",
       "      <td>0.247612</td>\n",
       "      <td>0.779179</td>\n",
       "      <td>19.308126</td>\n",
       "      <td>1.297687</td>\n",
       "      <td>1.821940</td>\n",
       "      <td>70.300299</td>\n",
       "      <td>1.009403</td>\n",
       "      <td>2.025746</td>\n",
       "      <td>3.034478</td>\n",
       "      <td>1.550522</td>\n",
       "      <td>0.618507</td>\n",
       "      <td>0.368582</td>\n",
       "      <td>1.193582</td>\n",
       "      <td>0.620149</td>\n",
       "    </tr>\n",
       "    <tr>\n",
       "      <th>std</th>\n",
       "      <td>17.433992</td>\n",
       "      <td>8.307964</td>\n",
       "      <td>4.357545</td>\n",
       "      <td>1.683555</td>\n",
       "      <td>3.593488</td>\n",
       "      <td>6.137679</td>\n",
       "      <td>0.383688</td>\n",
       "      <td>1.061847</td>\n",
       "      <td>16.022916</td>\n",
       "      <td>0.987246</td>\n",
       "      <td>1.322984</td>\n",
       "      <td>10.578479</td>\n",
       "      <td>0.777119</td>\n",
       "      <td>1.360008</td>\n",
       "      <td>2.057774</td>\n",
       "      <td>1.471169</td>\n",
       "      <td>0.409759</td>\n",
       "      <td>0.429049</td>\n",
       "      <td>0.722541</td>\n",
       "      <td>0.485531</td>\n",
       "    </tr>\n",
       "    <tr>\n",
       "      <th>min</th>\n",
       "      <td>11.000000</td>\n",
       "      <td>3.100000</td>\n",
       "      <td>0.700000</td>\n",
       "      <td>0.300000</td>\n",
       "      <td>0.800000</td>\n",
       "      <td>23.800000</td>\n",
       "      <td>0.000000</td>\n",
       "      <td>0.000000</td>\n",
       "      <td>0.000000</td>\n",
       "      <td>0.000000</td>\n",
       "      <td>0.000000</td>\n",
       "      <td>0.000000</td>\n",
       "      <td>0.000000</td>\n",
       "      <td>0.200000</td>\n",
       "      <td>0.300000</td>\n",
       "      <td>0.000000</td>\n",
       "      <td>0.000000</td>\n",
       "      <td>0.000000</td>\n",
       "      <td>0.100000</td>\n",
       "      <td>0.000000</td>\n",
       "    </tr>\n",
       "    <tr>\n",
       "      <th>25%</th>\n",
       "      <td>47.000000</td>\n",
       "      <td>10.875000</td>\n",
       "      <td>3.700000</td>\n",
       "      <td>1.400000</td>\n",
       "      <td>3.300000</td>\n",
       "      <td>40.200000</td>\n",
       "      <td>0.000000</td>\n",
       "      <td>0.000000</td>\n",
       "      <td>0.000000</td>\n",
       "      <td>0.600000</td>\n",
       "      <td>0.900000</td>\n",
       "      <td>64.700000</td>\n",
       "      <td>0.400000</td>\n",
       "      <td>1.000000</td>\n",
       "      <td>1.500000</td>\n",
       "      <td>0.600000</td>\n",
       "      <td>0.300000</td>\n",
       "      <td>0.100000</td>\n",
       "      <td>0.700000</td>\n",
       "      <td>0.000000</td>\n",
       "    </tr>\n",
       "    <tr>\n",
       "      <th>50%</th>\n",
       "      <td>63.000000</td>\n",
       "      <td>16.100000</td>\n",
       "      <td>5.550000</td>\n",
       "      <td>2.100000</td>\n",
       "      <td>4.800000</td>\n",
       "      <td>44.100000</td>\n",
       "      <td>0.100000</td>\n",
       "      <td>0.300000</td>\n",
       "      <td>22.400000</td>\n",
       "      <td>1.000000</td>\n",
       "      <td>1.500000</td>\n",
       "      <td>71.250000</td>\n",
       "      <td>0.800000</td>\n",
       "      <td>1.700000</td>\n",
       "      <td>2.500000</td>\n",
       "      <td>1.100000</td>\n",
       "      <td>0.500000</td>\n",
       "      <td>0.200000</td>\n",
       "      <td>1.000000</td>\n",
       "      <td>1.000000</td>\n",
       "    </tr>\n",
       "    <tr>\n",
       "      <th>75%</th>\n",
       "      <td>77.000000</td>\n",
       "      <td>22.900000</td>\n",
       "      <td>8.800000</td>\n",
       "      <td>3.400000</td>\n",
       "      <td>7.500000</td>\n",
       "      <td>47.900000</td>\n",
       "      <td>0.400000</td>\n",
       "      <td>1.200000</td>\n",
       "      <td>32.500000</td>\n",
       "      <td>1.600000</td>\n",
       "      <td>2.300000</td>\n",
       "      <td>77.600000</td>\n",
       "      <td>1.400000</td>\n",
       "      <td>2.600000</td>\n",
       "      <td>4.000000</td>\n",
       "      <td>2.000000</td>\n",
       "      <td>0.800000</td>\n",
       "      <td>0.500000</td>\n",
       "      <td>1.500000</td>\n",
       "      <td>1.000000</td>\n",
       "    </tr>\n",
       "    <tr>\n",
       "      <th>max</th>\n",
       "      <td>82.000000</td>\n",
       "      <td>40.900000</td>\n",
       "      <td>28.200000</td>\n",
       "      <td>10.200000</td>\n",
       "      <td>19.800000</td>\n",
       "      <td>73.700000</td>\n",
       "      <td>2.300000</td>\n",
       "      <td>6.500000</td>\n",
       "      <td>100.000000</td>\n",
       "      <td>7.700000</td>\n",
       "      <td>10.200000</td>\n",
       "      <td>100.000000</td>\n",
       "      <td>5.300000</td>\n",
       "      <td>9.600000</td>\n",
       "      <td>13.900000</td>\n",
       "      <td>10.600000</td>\n",
       "      <td>2.500000</td>\n",
       "      <td>3.900000</td>\n",
       "      <td>4.400000</td>\n",
       "      <td>1.000000</td>\n",
       "    </tr>\n",
       "  </tbody>\n",
       "</table>\n",
       "</div>"
      ],
      "text/plain": [
       "       Games Played  Minutes Played  Points Per Game  Field Goals Made  \\\n",
       "count   1340.000000     1340.000000      1340.000000       1340.000000   \n",
       "mean      60.414179       17.624627         6.801493          2.629104   \n",
       "std       17.433992        8.307964         4.357545          1.683555   \n",
       "min       11.000000        3.100000         0.700000          0.300000   \n",
       "25%       47.000000       10.875000         3.700000          1.400000   \n",
       "50%       63.000000       16.100000         5.550000          2.100000   \n",
       "75%       77.000000       22.900000         8.800000          3.400000   \n",
       "max       82.000000       40.900000        28.200000         10.200000   \n",
       "\n",
       "       Field Goal Attempts  Field Goal Percent  3 Point Made  3 Point Attempt  \\\n",
       "count          1340.000000         1340.000000   1340.000000      1340.000000   \n",
       "mean              5.885299           44.169403      0.247612         0.779179   \n",
       "std               3.593488            6.137679      0.383688         1.061847   \n",
       "min               0.800000           23.800000      0.000000         0.000000   \n",
       "25%               3.300000           40.200000      0.000000         0.000000   \n",
       "50%               4.800000           44.100000      0.100000         0.300000   \n",
       "75%               7.500000           47.900000      0.400000         1.200000   \n",
       "max              19.800000           73.700000      2.300000         6.500000   \n",
       "\n",
       "       3 Point Percent  Free Throw Made  Free Throw Attempts  \\\n",
       "count      1329.000000      1340.000000          1340.000000   \n",
       "mean         19.308126         1.297687             1.821940   \n",
       "std          16.022916         0.987246             1.322984   \n",
       "min           0.000000         0.000000             0.000000   \n",
       "25%           0.000000         0.600000             0.900000   \n",
       "50%          22.400000         1.000000             1.500000   \n",
       "75%          32.500000         1.600000             2.300000   \n",
       "max         100.000000         7.700000            10.200000   \n",
       "\n",
       "       Free Throw Percent  Offensive Rebounds  Defensive Rebounds  \\\n",
       "count         1340.000000         1340.000000         1340.000000   \n",
       "mean            70.300299            1.009403            2.025746   \n",
       "std             10.578479            0.777119            1.360008   \n",
       "min              0.000000            0.000000            0.200000   \n",
       "25%             64.700000            0.400000            1.000000   \n",
       "50%             71.250000            0.800000            1.700000   \n",
       "75%             77.600000            1.400000            2.600000   \n",
       "max            100.000000            5.300000            9.600000   \n",
       "\n",
       "          Rebounds      Assists       Steals       Blocks    Turnovers  \\\n",
       "count  1340.000000  1340.000000  1340.000000  1340.000000  1340.000000   \n",
       "mean      3.034478     1.550522     0.618507     0.368582     1.193582   \n",
       "std       2.057774     1.471169     0.409759     0.429049     0.722541   \n",
       "min       0.300000     0.000000     0.000000     0.000000     0.100000   \n",
       "25%       1.500000     0.600000     0.300000     0.100000     0.700000   \n",
       "50%       2.500000     1.100000     0.500000     0.200000     1.000000   \n",
       "75%       4.000000     2.000000     0.800000     0.500000     1.500000   \n",
       "max      13.900000    10.600000     2.500000     3.900000     4.400000   \n",
       "\n",
       "       TARGET_5Yrs  \n",
       "count  1340.000000  \n",
       "mean      0.620149  \n",
       "std       0.485531  \n",
       "min       0.000000  \n",
       "25%       0.000000  \n",
       "50%       1.000000  \n",
       "75%       1.000000  \n",
       "max       1.000000  "
      ]
     },
     "execution_count": 6,
     "metadata": {},
     "output_type": "execute_result"
    }
   ],
   "source": [
    "nba_data.info()\n",
    "nba_data.describe()"
   ]
  },
  {
   "cell_type": "code",
   "execution_count": 7,
   "id": "38b77f29",
   "metadata": {},
   "outputs": [
    {
     "data": {
      "text/plain": [
       "Name                    0\n",
       "Games Played            0\n",
       "Minutes Played          0\n",
       "Points Per Game         0\n",
       "Field Goals Made        0\n",
       "Field Goal Attempts     0\n",
       "Field Goal Percent      0\n",
       "3 Point Made            0\n",
       "3 Point Attempt         0\n",
       "3 Point Percent        11\n",
       "Free Throw Made         0\n",
       "Free Throw Attempts     0\n",
       "Free Throw Percent      0\n",
       "Offensive Rebounds      0\n",
       "Defensive Rebounds      0\n",
       "Rebounds                0\n",
       "Assists                 0\n",
       "Steals                  0\n",
       "Blocks                  0\n",
       "Turnovers               0\n",
       "TARGET_5Yrs             0\n",
       "dtype: int64"
      ]
     },
     "execution_count": 7,
     "metadata": {},
     "output_type": "execute_result"
    }
   ],
   "source": [
    "#checking for missing values\n",
    "nba_data.isnull().sum()"
   ]
  },
  {
   "cell_type": "code",
   "execution_count": 8,
   "id": "6956614c",
   "metadata": {},
   "outputs": [],
   "source": [
    "#dropping rows with missing 3 point percent data\n",
    "nba_rook = nba_data.dropna(subset=['3 Point Percent'])\n"
   ]
  },
  {
   "cell_type": "code",
   "execution_count": 9,
   "id": "9e729eb7",
   "metadata": {},
   "outputs": [
    {
     "data": {
      "text/plain": [
       "Name                   0\n",
       "Games Played           0\n",
       "Minutes Played         0\n",
       "Points Per Game        0\n",
       "Field Goals Made       0\n",
       "Field Goal Attempts    0\n",
       "Field Goal Percent     0\n",
       "3 Point Made           0\n",
       "3 Point Attempt        0\n",
       "3 Point Percent        0\n",
       "Free Throw Made        0\n",
       "Free Throw Attempts    0\n",
       "Free Throw Percent     0\n",
       "Offensive Rebounds     0\n",
       "Defensive Rebounds     0\n",
       "Rebounds               0\n",
       "Assists                0\n",
       "Steals                 0\n",
       "Blocks                 0\n",
       "Turnovers              0\n",
       "TARGET_5Yrs            0\n",
       "dtype: int64"
      ]
     },
     "execution_count": 9,
     "metadata": {},
     "output_type": "execute_result"
    }
   ],
   "source": [
    "nba_rook.isnull().sum()"
   ]
  },
  {
   "cell_type": "code",
   "execution_count": 10,
   "id": "751796b0",
   "metadata": {},
   "outputs": [
    {
     "data": {
      "image/png": "[encoded data removed]",
      "text/plain": [
       "<Figure size 432x288 with 1 Axes>"
      ]
     },
     "metadata": {
      "needs_background": "light"
     },
     "output_type": "display_data"
    }
   ],
   "source": [
    "#plotting the distribution of the target variable\n",
    "plt.figure(figsize=(6, 4))\n",
    "sns.countplot(x='TARGET_5Yrs', data=nba_rook)\n",
    "plt.title('Distribution of TARGET_5Yrs')\n",
    "plt.show()"
   ]
  },
  {
   "cell_type": "code",
   "execution_count": 11,
   "id": "f9ace331",
   "metadata": {},
   "outputs": [],
   "source": [
    "#calculating the correlation matrix\n",
    "correlation_matrix = nba_rook.corr()\n"
   ]
  },
  {
   "cell_type": "code",
   "execution_count": 12,
   "id": "a2a8814a",
   "metadata": {},
   "outputs": [],
   "source": [
    "#extracting the correlations of features with the target variable\n",
    "nba_corr = correlation_matrix['TARGET_5Yrs'].sort_values(ascending=False)"
   ]
  },
  {
   "cell_type": "code",
   "execution_count": 13,
   "id": "e3100b91",
   "metadata": {},
   "outputs": [
    {
     "data": {
      "image/png": "[encoded data removed]",
      "text/plain": [
       "<Figure size 720x432 with 1 Axes>"
      ]
     },
     "metadata": {
      "needs_background": "light"
     },
     "output_type": "display_data"
    },
    {
     "data": {
      "text/plain": [
       "TARGET_5Yrs            1.000000\n",
       "Games Played           0.397783\n",
       "Field Goals Made       0.316393\n",
       "Minutes Played         0.316031\n",
       "Points Per Game        0.314632\n",
       "Rebounds               0.300491\n",
       "Free Throw Attempts    0.296018\n",
       "Free Throw Made        0.295546\n",
       "Offensive Rebounds     0.294637\n",
       "Field Goal Attempts    0.290684\n",
       "Defensive Rebounds     0.285673\n",
       "Turnovers              0.270767\n",
       "Field Goal Percent     0.235587\n",
       "Steals                 0.228931\n",
       "Blocks                 0.211751\n",
       "Assists                0.173788\n",
       "Free Throw Percent     0.095621\n",
       "3 Point Made           0.035025\n",
       "3 Point Attempt        0.016151\n",
       "3 Point Percent       -0.003411\n",
       "Name: TARGET_5Yrs, dtype: float64"
      ]
     },
     "execution_count": 13,
     "metadata": {},
     "output_type": "execute_result"
    }
   ],
   "source": [
    "# Plotting the correlations with the target variable\n",
    "plt.figure(figsize=(10, 6))\n",
    "sns.barplot(x=nba_corr.index, y=nba_corr.values)\n",
    "plt.xticks(rotation=90)\n",
    "plt.title('Correlation of Features with TARGET_5Yrs')\n",
    "plt.ylabel('Correlation Coefficient')\n",
    "plt.xlabel('Features')\n",
    "plt.show()\n",
    "\n",
    "nba_corr"
   ]
  },
  {
   "cell_type": "code",
   "execution_count": 14,
   "id": "c5064c32",
   "metadata": {},
   "outputs": [],
   "source": [
    "#selecting the features Games Played and Points Per Game for our simple LRM\n",
    "X_simple = nba_rook[['Games Played', 'Points Per Game']]\n",
    "y_simple = nba_rook['TARGET_5Yrs']\n"
   ]
  },
  {
   "cell_type": "code",
   "execution_count": 15,
   "id": "dd1707c9",
   "metadata": {},
   "outputs": [],
   "source": [
    "from sklearn.model_selection import train_test_split\n",
    "\n",
    "#splitting the simple data\n",
    "X_train_simple, X_test_simple, y_train_simple, y_test_simple = train_test_split(X_simple, y_simple, test_size=0.2, random_state=42)"
   ]
  },
  {
   "cell_type": "code",
   "execution_count": null,
   "id": "a08031ec",
   "metadata": {},
   "outputs": [],
   "source": [
    "#Standardizing our features\n",
    "from sklearn.preprocessing import StandardScaler\n",
    "scaler = StandardScaler()"
   ]
  },
  {
   "cell_type": "code",
   "execution_count": 17,
   "id": "7e8858e1",
   "metadata": {},
   "outputs": [],
   "source": [
    "X_train_simple_scaled = scaler.fit_transform(X_train_simple)\n",
    "X_test_simple_scaled = scaler.transform(X_test_simple)"
   ]
  },
  {
   "cell_type": "code",
   "execution_count": 19,
   "id": "4377d3be",
   "metadata": {},
   "outputs": [
    {
     "data": {
      "text/html": [
       "<style>#sk-container-id-1 {color: black;background-color: white;}#sk-container-id-1 pre{padding: 0;}#sk-container-id-1 div.sk-toggleable {background-color: white;}#sk-container-id-1 label.sk-toggleable__label {cursor: pointer;display: block;width: 100%;margin-bottom: 0;padding: 0.3em;box-sizing: border-box;text-align: center;}#sk-container-id-1 label.sk-toggleable__label-arrow:before {content: \"▸\";float: left;margin-right: 0.25em;color: #696969;}#sk-container-id-1 label.sk-toggleable__label-arrow:hover:before {color: black;}#sk-container-id-1 div.sk-estimator:hover label.sk-toggleable__label-arrow:before {color: black;}#sk-container-id-1 div.sk-toggleable__content {max-height: 0;max-width: 0;overflow: hidden;text-align: left;background-color: #f0f8ff;}#sk-container-id-1 div.sk-toggleable__content pre {margin: 0.2em;color: black;border-radius: 0.25em;background-color: #f0f8ff;}#sk-container-id-1 input.sk-toggleable__control:checked~div.sk-toggleable__content {max-height: 200px;max-width: 100%;overflow: auto;}#sk-container-id-1 input.sk-toggleable__control:checked~label.sk-toggleable__label-arrow:before {content: \"▾\";}#sk-container-id-1 div.sk-estimator input.sk-toggleable__control:checked~label.sk-toggleable__label {background-color: #d4ebff;}#sk-container-id-1 div.sk-label input.sk-toggleable__control:checked~label.sk-toggleable__label {background-color: #d4ebff;}#sk-container-id-1 input.sk-hidden--visually {border: 0;clip: rect(1px 1px 1px 1px);clip: rect(1px, 1px, 1px, 1px);height: 1px;margin: -1px;overflow: hidden;padding: 0;position: absolute;width: 1px;}#sk-container-id-1 div.sk-estimator {font-family: monospace;background-color: #f0f8ff;border: 1px dotted black;border-radius: 0.25em;box-sizing: border-box;margin-bottom: 0.5em;}#sk-container-id-1 div.sk-estimator:hover {background-color: #d4ebff;}#sk-container-id-1 div.sk-parallel-item::after {content: \"\";width: 100%;border-bottom: 1px solid gray;flex-grow: 1;}#sk-container-id-1 div.sk-label:hover label.sk-toggleable__label {background-color: #d4ebff;}#sk-container-id-1 div.sk-serial::before {content: \"\";position: absolute;border-left: 1px solid gray;box-sizing: border-box;top: 0;bottom: 0;left: 50%;z-index: 0;}#sk-container-id-1 div.sk-serial {display: flex;flex-direction: column;align-items: center;background-color: white;padding-right: 0.2em;padding-left: 0.2em;position: relative;}#sk-container-id-1 div.sk-item {position: relative;z-index: 1;}#sk-container-id-1 div.sk-parallel {display: flex;align-items: stretch;justify-content: center;background-color: white;position: relative;}#sk-container-id-1 div.sk-item::before, #sk-container-id-1 div.sk-parallel-item::before {content: \"\";position: absolute;border-left: 1px solid gray;box-sizing: border-box;top: 0;bottom: 0;left: 50%;z-index: -1;}#sk-container-id-1 div.sk-parallel-item {display: flex;flex-direction: column;z-index: 1;position: relative;background-color: white;}#sk-container-id-1 div.sk-parallel-item:first-child::after {align-self: flex-end;width: 50%;}#sk-container-id-1 div.sk-parallel-item:last-child::after {align-self: flex-start;width: 50%;}#sk-container-id-1 div.sk-parallel-item:only-child::after {width: 0;}#sk-container-id-1 div.sk-dashed-wrapped {border: 1px dashed gray;margin: 0 0.4em 0.5em 0.4em;box-sizing: border-box;padding-bottom: 0.4em;background-color: white;}#sk-container-id-1 div.sk-label label {font-family: monospace;font-weight: bold;display: inline-block;line-height: 1.2em;}#sk-container-id-1 div.sk-label-container {text-align: center;}#sk-container-id-1 div.sk-container {/* jupyter's `normalize.less` sets `[hidden] { display: none; }` but bootstrap.min.css set `[hidden] { display: none !important; }` so we also need the `!important` here to be able to override the default hidden behavior on the sphinx rendered scikit-learn.org. See: https://github.com/scikit-learn/scikit-learn/issues/21755 */display: inline-block !important;position: relative;}#sk-container-id-1 div.sk-text-repr-fallback {display: none;}</style><div id=\"sk-container-id-1\" class=\"sk-top-container\"><div class=\"sk-text-repr-fallback\"><pre>LogisticRegression(random_state=42)</pre><b>In a Jupyter environment, please rerun this cell to show the HTML representation or trust the notebook. <br />On GitHub, the HTML representation is unable to render, please try loading this page with nbviewer.org.</b></div><div class=\"sk-container\" hidden><div class=\"sk-item\"><div class=\"sk-estimator sk-toggleable\"><input class=\"sk-toggleable__control sk-hidden--visually\" id=\"sk-estimator-id-1\" type=\"checkbox\" checked><label for=\"sk-estimator-id-1\" class=\"sk-toggleable__label sk-toggleable__label-arrow\">LogisticRegression</label><div class=\"sk-toggleable__content\"><pre>LogisticRegression(random_state=42)</pre></div></div></div></div></div>"
      ],
      "text/plain": [
       "LogisticRegression(random_state=42)"
      ]
     },
     "execution_count": 19,
     "metadata": {},
     "output_type": "execute_result"
    }
   ],
   "source": [
    "#building our Logistic Regression Model with simplified features\n",
    "from sklearn.linear_model import LogisticRegression\n",
    "from sklearn.metrics import accuracy_score, classification_report, confusion_matrix\n",
    "\n",
    "log_simple = LogisticRegression(random_state=42)\n",
    "log_simple.fit(X_train_simple_scaled, y_train_simple)"
   ]
  },
  {
   "cell_type": "code",
   "execution_count": 20,
   "id": "ee1e1d6b",
   "metadata": {},
   "outputs": [],
   "source": [
    "#predicting with the Logistic Regression Model\n",
    "y_pred_log_simple = log_simple.predict(X_test_simple_scaled)\n"
   ]
  },
  {
   "cell_type": "code",
   "execution_count": null,
   "id": "116b59db",
   "metadata": {},
   "outputs": [],
   "source": [
    "# Evaluating the simplified Logistic Regression Model\n",
    "log_simple_accuracy = accuracy_score(y_test_simple, y_pred_log_simple)\n",
    "log_simple_report = classification_report(y_test_simple, y_pred_log_simple)"
   ]
  },
  {
   "cell_type": "code",
   "execution_count": 23,
   "id": "24e667ee",
   "metadata": {},
   "outputs": [
    {
     "data": {
      "text/plain": [
       "(0.7443609022556391,\n",
       " '              precision    recall  f1-score   support\\n\\n           0       0.62      0.63      0.63        90\\n           1       0.81      0.80      0.81       176\\n\\n    accuracy                           0.74       266\\n   macro avg       0.71      0.72      0.72       266\\nweighted avg       0.75      0.74      0.75       266\\n')"
      ]
     },
     "execution_count": 23,
     "metadata": {},
     "output_type": "execute_result"
    }
   ],
   "source": [
    "log_simple_accuracy, log_simple_report"
   ]
  },
  {
   "cell_type": "code",
   "execution_count": null,
   "id": "dff75d2d",
   "metadata": {},
   "outputs": [],
   "source": [
    "#The simplified model with just two features ('Games Played' and 'Points Per Game') has performed quite well, achieving a higher accuracy compared to the more complex model with multiple features (73.31%).\n",
    "#also, this indicates that these two features are strong predictors for determining whether a player's career will last 5 years or more.\n",
    "\n",
    "#We can now experiment by adding more features to see if the model's performance can be further improved\n",
    "\n",
    "#dding 'Field Goals Made', 'Minutes Played', and 'Rebounds' to the existing features Games Played and Points Per Game, and then evaluate the model"
   ]
  },
  {
   "cell_type": "code",
   "execution_count": 24,
   "id": "fb47f44a",
   "metadata": {},
   "outputs": [],
   "source": [
    "m_features =  ['Games Played', 'Points Per Game', 'Field Goals Made', 'Minutes Played', 'Rebounds']\n",
    "#extraction\n",
    "X_multi = nba_rook[m_features]"
   ]
  },
  {
   "cell_type": "code",
   "execution_count": 26,
   "id": "300f7e2e",
   "metadata": {},
   "outputs": [],
   "source": [
    "#splitting the extended dataset\n",
    "X_train_m, X_test_m, y_train_m, y_test_m = train_test_split(X_multi, y_simple, test_size=0.2, random_state=42)"
   ]
  },
  {
   "cell_type": "code",
   "execution_count": 27,
   "id": "98129169",
   "metadata": {},
   "outputs": [],
   "source": [
    "#standardizing the extended features\n",
    "scaler_m = StandardScaler()\n",
    "X_train_m_scaled = scaler_m.fit_transform(X_train_m)\n",
    "X_test_m_scaled = scaler_m.transform(X_test_m)\n"
   ]
  },
  {
   "cell_type": "code",
   "execution_count": 28,
   "id": "1597f71c",
   "metadata": {},
   "outputs": [
    {
     "data": {
      "text/html": [
       "<style>#sk-container-id-2 {color: black;background-color: white;}#sk-container-id-2 pre{padding: 0;}#sk-container-id-2 div.sk-toggleable {background-color: white;}#sk-container-id-2 label.sk-toggleable__label {cursor: pointer;display: block;width: 100%;margin-bottom: 0;padding: 0.3em;box-sizing: border-box;text-align: center;}#sk-container-id-2 label.sk-toggleable__label-arrow:before {content: \"▸\";float: left;margin-right: 0.25em;color: #696969;}#sk-container-id-2 label.sk-toggleable__label-arrow:hover:before {color: black;}#sk-container-id-2 div.sk-estimator:hover label.sk-toggleable__label-arrow:before {color: black;}#sk-container-id-2 div.sk-toggleable__content {max-height: 0;max-width: 0;overflow: hidden;text-align: left;background-color: #f0f8ff;}#sk-container-id-2 div.sk-toggleable__content pre {margin: 0.2em;color: black;border-radius: 0.25em;background-color: #f0f8ff;}#sk-container-id-2 input.sk-toggleable__control:checked~div.sk-toggleable__content {max-height: 200px;max-width: 100%;overflow: auto;}#sk-container-id-2 input.sk-toggleable__control:checked~label.sk-toggleable__label-arrow:before {content: \"▾\";}#sk-container-id-2 div.sk-estimator input.sk-toggleable__control:checked~label.sk-toggleable__label {background-color: #d4ebff;}#sk-container-id-2 div.sk-label input.sk-toggleable__control:checked~label.sk-toggleable__label {background-color: #d4ebff;}#sk-container-id-2 input.sk-hidden--visually {border: 0;clip: rect(1px 1px 1px 1px);clip: rect(1px, 1px, 1px, 1px);height: 1px;margin: -1px;overflow: hidden;padding: 0;position: absolute;width: 1px;}#sk-container-id-2 div.sk-estimator {font-family: monospace;background-color: #f0f8ff;border: 1px dotted black;border-radius: 0.25em;box-sizing: border-box;margin-bottom: 0.5em;}#sk-container-id-2 div.sk-estimator:hover {background-color: #d4ebff;}#sk-container-id-2 div.sk-parallel-item::after {content: \"\";width: 100%;border-bottom: 1px solid gray;flex-grow: 1;}#sk-container-id-2 div.sk-label:hover label.sk-toggleable__label {background-color: #d4ebff;}#sk-container-id-2 div.sk-serial::before {content: \"\";position: absolute;border-left: 1px solid gray;box-sizing: border-box;top: 0;bottom: 0;left: 50%;z-index: 0;}#sk-container-id-2 div.sk-serial {display: flex;flex-direction: column;align-items: center;background-color: white;padding-right: 0.2em;padding-left: 0.2em;position: relative;}#sk-container-id-2 div.sk-item {position: relative;z-index: 1;}#sk-container-id-2 div.sk-parallel {display: flex;align-items: stretch;justify-content: center;background-color: white;position: relative;}#sk-container-id-2 div.sk-item::before, #sk-container-id-2 div.sk-parallel-item::before {content: \"\";position: absolute;border-left: 1px solid gray;box-sizing: border-box;top: 0;bottom: 0;left: 50%;z-index: -1;}#sk-container-id-2 div.sk-parallel-item {display: flex;flex-direction: column;z-index: 1;position: relative;background-color: white;}#sk-container-id-2 div.sk-parallel-item:first-child::after {align-self: flex-end;width: 50%;}#sk-container-id-2 div.sk-parallel-item:last-child::after {align-self: flex-start;width: 50%;}#sk-container-id-2 div.sk-parallel-item:only-child::after {width: 0;}#sk-container-id-2 div.sk-dashed-wrapped {border: 1px dashed gray;margin: 0 0.4em 0.5em 0.4em;box-sizing: border-box;padding-bottom: 0.4em;background-color: white;}#sk-container-id-2 div.sk-label label {font-family: monospace;font-weight: bold;display: inline-block;line-height: 1.2em;}#sk-container-id-2 div.sk-label-container {text-align: center;}#sk-container-id-2 div.sk-container {/* jupyter's `normalize.less` sets `[hidden] { display: none; }` but bootstrap.min.css set `[hidden] { display: none !important; }` so we also need the `!important` here to be able to override the default hidden behavior on the sphinx rendered scikit-learn.org. See: https://github.com/scikit-learn/scikit-learn/issues/21755 */display: inline-block !important;position: relative;}#sk-container-id-2 div.sk-text-repr-fallback {display: none;}</style><div id=\"sk-container-id-2\" class=\"sk-top-container\"><div class=\"sk-text-repr-fallback\"><pre>LogisticRegression(random_state=42)</pre><b>In a Jupyter environment, please rerun this cell to show the HTML representation or trust the notebook. <br />On GitHub, the HTML representation is unable to render, please try loading this page with nbviewer.org.</b></div><div class=\"sk-container\" hidden><div class=\"sk-item\"><div class=\"sk-estimator sk-toggleable\"><input class=\"sk-toggleable__control sk-hidden--visually\" id=\"sk-estimator-id-2\" type=\"checkbox\" checked><label for=\"sk-estimator-id-2\" class=\"sk-toggleable__label sk-toggleable__label-arrow\">LogisticRegression</label><div class=\"sk-toggleable__content\"><pre>LogisticRegression(random_state=42)</pre></div></div></div></div></div>"
      ],
      "text/plain": [
       "LogisticRegression(random_state=42)"
      ]
     },
     "execution_count": 28,
     "metadata": {},
     "output_type": "execute_result"
    }
   ],
   "source": [
    "#building the Logistic Regression Model with extended features\n",
    "log_reg_m = LogisticRegression(random_state=42)\n",
    "log_reg_m.fit(X_train_m_scaled, y_train_m)"
   ]
  },
  {
   "cell_type": "code",
   "execution_count": 29,
   "id": "c88a5147",
   "metadata": {},
   "outputs": [],
   "source": [
    "#predicting with the extended Logistic Regression Model\n",
    "y_pred_log_m = log_reg_m.predict(X_test_m_scaled)"
   ]
  },
  {
   "cell_type": "code",
   "execution_count": 30,
   "id": "87c21a69",
   "metadata": {},
   "outputs": [
    {
     "data": {
      "text/plain": [
       "(0.7481203007518797,\n",
       " '              precision    recall  f1-score   support\\n\\n           0       0.62      0.64      0.63        90\\n           1       0.82      0.80      0.81       176\\n\\n    accuracy                           0.75       266\\n   macro avg       0.72      0.72      0.72       266\\nweighted avg       0.75      0.75      0.75       266\\n')"
      ]
     },
     "execution_count": 30,
     "metadata": {},
     "output_type": "execute_result"
    }
   ],
   "source": [
    "# Evaluating the extended Logistic Regression Model\n",
    "log_m_accuracy = accuracy_score(y_test_m, y_pred_log_m)\n",
    "log_m_report = classification_report(y_test_m, y_pred_log_m)\n",
    "\n",
    "log_m_accuracy, log_m_report"
   ]
  },
  {
   "cell_type": "code",
   "execution_count": 32,
   "id": "950a7c65",
   "metadata": {},
   "outputs": [
    {
     "data": {
      "text/plain": [
       "(0.7105263157894737,\n",
       " '              precision    recall  f1-score   support\\n\\n           0       0.55      0.74      0.64        90\\n           1       0.84      0.69      0.76       176\\n\\n    accuracy                           0.71       266\\n   macro avg       0.70      0.72      0.70       266\\nweighted avg       0.74      0.71      0.72       266\\n')"
      ]
     },
     "execution_count": 32,
     "metadata": {},
     "output_type": "execute_result"
    }
   ],
   "source": [
    "from sklearn.naive_bayes import GaussianNB\n",
    "\n",
    "#building the Gaussian Naive Bayes Model with basic features (Games Played, Points Per Game)\n",
    "gaussian_nb_simple = GaussianNB()\n",
    "gaussian_nb_simple.fit(X_train_simple_scaled, y_train_simple)\n",
    "\n",
    "#predicting with the Gaussian Naive Bayes Model (simplified)\n",
    "y_pred_gaussian_nb_simple = gaussian_nb_simple.predict(X_test_simple_scaled)\n",
    "\n",
    "#evaluating the Gaussian Naive Bayes Model (simplified)\n",
    "gaussian_nb_simple_accuracy = accuracy_score(y_test_simple, y_pred_gaussian_nb_simple)\n",
    "gaussian_nb_simple_report = classification_report(y_test_simple, y_pred_gaussian_nb_simple)\n",
    "\n",
    "gaussian_nb_simple_accuracy, gaussian_nb_simple_report,"
   ]
  },
  {
   "cell_type": "code",
   "execution_count": 33,
   "id": "ee492c2a",
   "metadata": {},
   "outputs": [],
   "source": [
    "# Building and evaluating the Gaussian Naive Bayes model with extended features\n",
    "gaussian_nb_m = GaussianNB()\n",
    "gaussian_nb_m.fit(X_train_m_scaled, y_train_m)\n",
    "y_pred_gaussian_nb_m = gaussian_nb_m.predict(X_test_m_scaled)\n",
    "gaussian_nb_m_accuracy = accuracy_score(y_test_m, y_pred_gaussian_nb_m)\n",
    "gaussian_nb_m_report = classification_report(y_test_m, y_pred_gaussian_nb_m)"
   ]
  },
  {
   "cell_type": "code",
   "execution_count": 34,
   "id": "754ee7d7",
   "metadata": {},
   "outputs": [
    {
     "data": {
      "text/plain": [
       "(0.650375939849624,\n",
       " '              precision    recall  f1-score   support\\n\\n           0       0.49      0.82      0.61        90\\n           1       0.86      0.56      0.68       176\\n\\n    accuracy                           0.65       266\\n   macro avg       0.68      0.69      0.65       266\\nweighted avg       0.74      0.65      0.66       266\\n')"
      ]
     },
     "execution_count": 34,
     "metadata": {},
     "output_type": "execute_result"
    }
   ],
   "source": [
    "gaussian_nb_m_accuracy, gaussian_nb_m_report"
   ]
  },
  {
   "cell_type": "code",
   "execution_count": 38,
   "id": "37f8c045",
   "metadata": {},
   "outputs": [
    {
     "data": {
      "text/plain": [
       "(0.7406015037593985,\n",
       " '              precision    recall  f1-score   support\\n\\n           0       0.61      0.67      0.63        90\\n           1       0.82      0.78      0.80       176\\n\\n    accuracy                           0.74       266\\n   macro avg       0.71      0.72      0.72       266\\nweighted avg       0.75      0.74      0.74       266\\n')"
      ]
     },
     "execution_count": 38,
     "metadata": {},
     "output_type": "execute_result"
    }
   ],
   "source": [
    "from sklearn.neural_network import MLPClassifier\n",
    "# Building the MLPClassifier Model with basic features\n",
    "mlp_classifier_simple = MLPClassifier(random_state=42, max_iter=1000)\n",
    "mlp_classifier_simple.fit(X_train_simple_scaled, y_train_simple)\n",
    "\n",
    "# Predicting with the MLPClassifier Model (simplified)\n",
    "y_pred_mlp_classifier_simple = mlp_classifier_simple.predict(X_test_simple_scaled)\n",
    "\n",
    "# Evaluating the MLPClassifier Model (simplified)\n",
    "mlp_classifier_simple_accuracy = accuracy_score(y_test_simple, y_pred_mlp_classifier_simple)\n",
    "mlp_classifier_simple_report = classification_report(y_test_simple, y_pred_mlp_classifier_simple)\n",
    "\n",
    "mlp_classifier_simple_accuracy, mlp_classifier_simple_report"
   ]
  },
  {
   "cell_type": "code",
   "execution_count": 41,
   "id": "6650080e",
   "metadata": {},
   "outputs": [
    {
     "data": {
      "text/plain": [
       "(0.7518796992481203,\n",
       " '              precision    recall  f1-score   support\\n\\n           0       0.62      0.69      0.65        90\\n           1       0.83      0.78      0.81       176\\n\\n    accuracy                           0.75       266\\n   macro avg       0.73      0.74      0.73       266\\nweighted avg       0.76      0.75      0.75       266\\n')"
      ]
     },
     "execution_count": 41,
     "metadata": {},
     "output_type": "execute_result"
    }
   ],
   "source": [
    "#building and evaluating the MLPClassifier model with extended features\n",
    "mlp_classifier_m = MLPClassifier(random_state=42, max_iter=1000)\n",
    "mlp_classifier_m.fit(X_train_m_scaled, y_train_m)\n",
    "y_pred_mlp_classifier_m = mlp_classifier_m.predict(X_test_m_scaled)\n",
    "mlp_classifier_m_accuracy = accuracy_score(y_test_m, y_pred_mlp_classifier_m)\n",
    "mlp_classifier_m_report = classification_report(y_test_m, y_pred_mlp_classifier_m)\n",
    "\n",
    "mlp_classifier_m_accuracy, mlp_classifier_m_report"
   ]
  },
  {
   "cell_type": "code",
   "execution_count": null,
   "id": "6bd417a4",
   "metadata": {},
   "outputs": [],
   "source": [
    "#The Gaussian Naive Bayes model's performance did not improve with the inclusion of all features, indicating that it might not be the best choice for this specific dataset and feature set.\n",
    "#The MLPClassifier maintained a consistent performance level, similar to the Logistic Regression model, as we added more features."
   ]
  },
  {
   "cell_type": "code",
   "execution_count": null,
   "id": "8b0fe2e5",
   "metadata": {},
   "outputs": [],
   "source": [
    "#Comparative Analysis:Logistic Regression showed a gradual increase in performance as more features were added, with the best accuracy of 75.56% using all features.\n",
    "#Gaussian Naive Bayes had a decrease in performance with the addition of more features, suggesting it may not be well-suited for datasets with a larger number of features in this context.\n",
    "#MLPClassifier demonstrated a relatively stable performance, indicating its effectiveness in handling a varying number of features."
   ]
  },
  {
   "cell_type": "code",
   "execution_count": 44,
   "id": "1c67a6aa",
   "metadata": {},
   "outputs": [
    {
     "data": {
      "image/png": "[encoded data removed]",
      "text/plain": [
       "<Figure size 720x432 with 1 Axes>"
      ]
     },
     "metadata": {
      "needs_background": "light"
     },
     "output_type": "display_data"
    }
   ],
   "source": [
    "from sklearn.metrics import confusion_matrix, roc_curve, auc, RocCurveDisplay\n",
    "\n",
    "# Preparing to plot ROC Curves for each simplified model\n",
    "simple_models = [\n",
    "    {\"model\": log_simple, \"X_test\": X_test_simple_scaled, \"y_test\": y_test_simple, \"label\": \"Logistic Regression (Simple)\"},\n",
    "    {\"model\": gaussian_nb_simple, \"X_test\": X_test_simple_scaled, \"y_test\": y_test_simple, \"label\": \"Gaussian Naive Bayes (Simple)\"},\n",
    "    {\"model\": mlp_classifier_simple, \"X_test\": X_test_simple_scaled, \"y_test\": y_test_simple, \"label\": \"MLPClassifier (Simple)\"}\n",
    "]\n",
    "\n",
    "plt.figure(figsize=(10, 6))\n",
    "\n",
    "#plotting ROC Curves for each simplified model\n",
    "for m in simple_models:\n",
    "    probabilities = m[\"model\"].predict_proba(m[\"X_test\"])[:, 1]\n",
    "    fpr, tpr, _ = roc_curve(m[\"y_test\"], probabilities)\n",
    "    roc_auc = auc(fpr, tpr)\n",
    "    plt.plot(fpr, tpr, label=f'{m[\"label\"]} (AUC = {roc_auc:.2f})')\n",
    "\n",
    "plt.plot([0, 1], [0, 1], color='navy', linestyle='--')\n",
    "plt.title('ROC Curves for Simplified Models')\n",
    "plt.xlabel('False Positive Rate')\n",
    "plt.ylabel('True Positive Rate')\n",
    "plt.legend(loc=\"lower right\")\n",
    "plt.show()\n"
   ]
  },
  {
   "cell_type": "code",
   "execution_count": 49,
   "id": "bf5397c5",
   "metadata": {},
   "outputs": [
    {
     "data": {
      "image/png": "[encoded data removed]",
      "text/plain": [
       "<Figure size 720x432 with 1 Axes>"
      ]
     },
     "metadata": {
      "needs_background": "light"
     },
     "output_type": "display_data"
    }
   ],
   "source": [
    "# Preparing to plot ROC Curves for each simplified model\n",
    "mutiple_models = [\n",
    "    {\"model\": log_reg_m, \"X_test\": X_test_m_scaled, \"y_test\": y_test_m, \"label\": \"Logistic Regression (Multiple)\"},\n",
    "    {\"model\": gaussian_nb_m, \"X_test\": X_test_m_scaled, \"y_test\": y_test_m, \"label\": \"Gaussian Naive Bayes (Multiple)\"},\n",
    "    {\"model\": mlp_classifier_m, \"X_test\": X_test_m_scaled, \"y_test\": y_test_m, \"label\": \"MLPClassifier (Multiple)\"}\n",
    "]\n",
    "\n",
    "plt.figure(figsize=(10, 6))\n",
    "\n",
    "#plotting ROC Curves for each simplified model\n",
    "for m in mutiple_models:\n",
    "    probabilities = m[\"model\"].predict_proba(m[\"X_test\"])[:, 1]\n",
    "    fpr, tpr, _ = roc_curve(m[\"y_test\"], probabilities)\n",
    "    roc_auc = auc(fpr, tpr)\n",
    "    plt.plot(fpr, tpr, label=f'{m[\"label\"]} (AUC = {roc_auc:.2f})')\n",
    "\n",
    "plt.plot([0, 1], [0, 1], color='navy', linestyle='--')\n",
    "plt.title('ROC Curves for Multiple Models')\n",
    "plt.xlabel('False Positive Rate')\n",
    "plt.ylabel('True Positive Rate')\n",
    "plt.legend(loc=\"lower right\")\n",
    "plt.show()"
   ]
  },
  {
   "cell_type": "code",
   "execution_count": null,
   "id": "b6dce7b7",
   "metadata": {},
   "outputs": [],
   "source": [
    "#The Logistic Regression and MLPClassifier models are relatively robust to the addition of features, maintaining or slightly improving performance.\n",
    "#Gaussian Naive Bayes might require more feature selection to maintain performance.\n",
    "#In all cases, the increase in model complexity with additional features did not result in significant performance gains, which is an important consideration for model deployment.\n",
    "#The consistent AUC values alongside accuracy and other metrics suggest that for this particular problem, the simplest models are nearly as effective as the more complex ones. This could lead to a preference for simpler models due to their advantages in terms of transparency and computation."
   ]
  }
 ],
 "metadata": {
  "kernelspec": {
   "display_name": "Python 3 (ipykernel)",
   "language": "python",
   "name": "python3"
  },
  "language_info": {
   "codemirror_mode": {
    "name": "ipython",
    "version": 3
   },
   "file_extension": ".py",
   "mimetype": "text/x-python",
   "name": "python",
   "nbconvert_exporter": "python",
   "pygments_lexer": "ipython3",
   "version": "3.9.12"
  }
 },
 "nbformat": 4,
 "nbformat_minor": 5
}
